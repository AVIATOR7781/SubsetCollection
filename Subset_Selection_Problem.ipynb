{
  "nbformat": 4,
  "nbformat_minor": 0,
  "metadata": {
    "colab": {
      "provenance": [],
      "authorship_tag": "ABX9TyN6Z7DY2As7fEl+o7FIOOzM",
      "include_colab_link": true
    },
    "kernelspec": {
      "name": "python3",
      "display_name": "Python 3"
    },
    "language_info": {
      "name": "python"
    }
  },
  "cells": [
    {
      "cell_type": "markdown",
      "metadata": {
        "id": "view-in-github",
        "colab_type": "text"
      },
      "source": [
        "<a href=\"https://colab.research.google.com/github/AVIATOR7781/SubsetCollection/blob/main/Subset_Selection_Problem.ipynb\" target=\"_parent\"><img src=\"https://colab.research.google.com/assets/colab-badge.svg\" alt=\"Open In Colab\"/></a>"
      ]
    },
    {
      "cell_type": "markdown",
      "source": [
        "\n",
        "Subset Selection Problem\n",
        "1. Problem Statement:\n",
        "Find all the subsets from a set of numbers whose sum is zero."
      ],
      "metadata": {
        "id": "HM56AmuIHq0b"
      }
    },
    {
      "cell_type": "markdown",
      "source": [
        "Constraint: Subset size must be 5"
      ],
      "metadata": {
        "id": "1VzQX-ATUfSY"
      }
    },
    {
      "cell_type": "markdown",
      "source": [
        "Set={-12, -3, -6, 7, 2, -2, 6, 3, 9, -7, -5, -8, 1, 11, -9, -4}"
      ],
      "metadata": {
        "id": "Z3P_MBVBUj6B"
      }
    },
    {
      "cell_type": "code",
      "execution_count": null,
      "metadata": {
        "id": "vFaUA4S2UFcD"
      },
      "outputs": [],
      "source": [
        "import random as r"
      ]
    },
    {
      "cell_type": "code",
      "source": [
        "Set         = set([-12, -3, -6, 7, 2, -2, 6, 3, 9, -7, -5, -8, 1, 11, -9, -4])\n",
        "SetSize     = 5\n",
        "ResultList  = set()\n",
        "Iterations  = 1000"
      ],
      "metadata": {
        "id": "RJ_aBL6FUn9f"
      },
      "execution_count": null,
      "outputs": []
    },
    {
      "cell_type": "code",
      "source": [
        "for i in range(Iterations):\n",
        "  Chromosome = r.sample(Set,SetSize)\n",
        "  if sum(Chromosome) == 0:\n",
        "        ResultList.add(tuple(Chromosome))"
      ],
      "metadata": {
        "colab": {
          "base_uri": "https://localhost:8080/"
        },
        "id": "bRAIR_xBUrUQ",
        "outputId": "70923a6b-13ce-4fd8-be08-ff55f74c6023"
      },
      "execution_count": null,
      "outputs": [
        {
          "output_type": "stream",
          "name": "stderr",
          "text": [
            "<ipython-input-4-b5819852724c>:2: DeprecationWarning: Sampling from a set deprecated\n",
            "since Python 3.9 and will be removed in a subsequent version.\n",
            "  Chromosome = r.sample(Set,SetSize)\n"
          ]
        }
      ]
    },
    {
      "cell_type": "code",
      "source": [
        "for r in ResultList:\n",
        "\tprint (r)\n",
        "\n",
        "# Print total sets\n",
        "print (\"\\nTotal Sets: \", len(ResultList), \"\\n\")"
      ],
      "metadata": {
        "colab": {
          "base_uri": "https://localhost:8080/"
        },
        "id": "_mSq12V1UxxZ",
        "outputId": "e037a76a-e3d9-4fa4-c668-0353b5d90763"
      },
      "execution_count": null,
      "outputs": [
        {
          "output_type": "stream",
          "name": "stdout",
          "text": [
            "(-7, -5, 3, 9)\n",
            "(-5, -4, 1, 2, 6)\n",
            "(-8, -6, 3, 11)\n",
            "(-5, 2, 3)\n",
            "(-12, 3, 9)\n",
            "(-5, -3, 2, 6)\n",
            "(-7, -5, -4, 2, 3, 11)\n",
            "(-4, 1, 3)\n",
            "(-8, -4, -2, 1, 6, 7)\n",
            "(-9, -5, 3, 11)\n",
            "(-7, -2, 9)\n",
            "(-12, 1, 11)\n",
            "(-8, -6, -4, 3, 6, 9)\n",
            "(-7, -2, 1, 2, 6)\n",
            "(-12, -4, -3, 3, 7, 9)\n",
            "(-5, -2, 1, 6)\n",
            "(-12, -7, 2, 6, 11)\n",
            "(-6, -4, 1, 9)\n",
            "(-6, 1, 2, 3)\n",
            "(-12, -7, 1, 2, 7, 9)\n",
            "(-4, -2, 6)\n",
            "(-8, -3, -2, 2, 11)\n",
            "(-7, -6, -3, 7, 9)\n",
            "(-9, -6, -2, 6, 11)\n",
            "(-12, -4, 3, 6, 7)\n",
            "(-5, -4, -3, 3, 9)\n",
            "(-9, -6, 2, 6, 7)\n",
            "(-7, 1, 6)\n",
            "(-9, -5, -2, 3, 6, 7)\n",
            "(-12, -8, 9, 11)\n",
            "(-5, -4, 9)\n",
            "\n",
            "Total Sets:  31 \n",
            "\n"
          ]
        }
      ]
    },
    {
      "cell_type": "markdown",
      "source": [
        "Constraint: Subset size must be 3 to 6 only"
      ],
      "metadata": {
        "id": "XyO_YJ2-VhL-"
      }
    },
    {
      "cell_type": "code",
      "source": [
        "import random as r\n",
        "Set         = set([-12, -3, -6, 7, 2, -2, 6, 3, 9, -7, -5, -8, 1, 11, -9, -4])\n",
        "SetLB       = 3\n",
        "SetUB       = 6\n",
        "ResultList  = set()\n",
        "Iterations  = 1000\n",
        "\n",
        "\n",
        "for i in range(Iterations):\n",
        "    SetSize = r.randint(SetLB,SetUB)\n",
        "    Chromosome = r.sample(Set,SetSize)\n",
        "    Chromosome.sort()\n",
        "\n",
        "\n",
        "    if sum(Chromosome) == 0:\n",
        "        ResultList.add(tuple(Chromosome))\n",
        "for r in ResultList:\n",
        "\tprint (r)\n",
        "\n",
        "print (\"\\nTotal Sets: \", len(ResultList))"
      ],
      "metadata": {
        "colab": {
          "base_uri": "https://localhost:8080/"
        },
        "id": "Ct1NcQxBVjXg",
        "outputId": "e00ccdec-07eb-455c-dbbe-8219c680fa2b"
      },
      "execution_count": null,
      "outputs": [
        {
          "output_type": "stream",
          "name": "stdout",
          "text": [
            "(-12, -5, 6, 11)\n",
            "(-8, -6, -4, 7, 11)\n",
            "(-8, -5, 6, 7)\n",
            "(-12, 1, 2, 9)\n",
            "(-9, -3, 3, 9)\n",
            "(-8, -6, 1, 6, 7)\n",
            "(-5, 2, 3)\n",
            "(-6, -2, 2, 6)\n",
            "(-6, -3, -2, 11)\n",
            "(-6, -4, 3, 7)\n",
            "(-4, 1, 3)\n",
            "(-6, -4, 1, 2, 7)\n",
            "(-9, -5, 3, 11)\n",
            "(-7, -2, 9)\n",
            "(-12, -7, -4, 3, 9, 11)\n",
            "(-5, -4, 3, 6)\n",
            "(-12, 1, 11)\n",
            "(-7, -3, -2, 1, 2, 9)\n",
            "(-5, -2, 1, 6)\n",
            "(-8, 1, 7)\n",
            "(-5, -4, -2, 1, 3, 7)\n",
            "(-4, -2, 6)\n",
            "(-4, -3, -2, 2, 7)\n",
            "(-6, -5, 11)\n",
            "(-5, -4, 9)\n",
            "(-9, -8, 6, 11)\n",
            "(-7, 1, 6)\n",
            "(-8, -3, 11)\n",
            "(-7, -5, -3, 6, 9)\n",
            "(-12, -8, 9, 11)\n",
            "(-8, -7, -2, 2, 6, 9)\n",
            "(-8, -6, 2, 3, 9)\n",
            "\n",
            "Total Sets:  32\n"
          ]
        },
        {
          "output_type": "stream",
          "name": "stderr",
          "text": [
            "<ipython-input-12-065f64f1f692>:11: DeprecationWarning: Sampling from a set deprecated\n",
            "since Python 3.9 and will be removed in a subsequent version.\n",
            "  Chromosome = r.sample(Set,SetSize)\n"
          ]
        }
      ]
    }
  ]
}